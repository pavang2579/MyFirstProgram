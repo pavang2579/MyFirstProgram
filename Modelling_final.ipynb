{
  "cells": [
    {
      "metadata": {
        "_uuid": "8f2839f25d086af736a60e9eeb907d3b93b6e0e5",
        "_cell_guid": "b1076dfc-b9ad-4769-8c92-a6c4dae69d19",
        "trusted": true
      },
      "cell_type": "code",
      "source": "# This Python 3 environment comes with many helpful analytics libraries installed\n# It is defined by the kaggle/python docker image: https://github.com/kaggle/docker-python\n# For example, here's several helpful packages to load in \n\nimport numpy as np # linear algebra\nimport pandas as pd # data processing, CSV file I/O (e.g. pd.read_csv)\n\n# Input data files are available in the \"../input/\" directory.\n# For example, running this (by clicking run or pressing Shift+Enter) will list the files in the input directory\n\nimport os\nprint(os.listdir(\"../input\"))\n\n# Any results you write to the current directory are saved as output.",
      "execution_count": null,
      "outputs": []
    },
    {
      "metadata": {
        "_cell_guid": "79c7e3d0-c299-4dcb-8224-4455121ee9b0",
        "_uuid": "d629ff2d2480ee46fbb7e2d37f6b5fab8052498a",
        "trusted": true
      },
      "cell_type": "code",
      "source": "import os\nimport pandas\nimport numpy\nimport matplotlib.pyplot as plt\nimport seaborn as sn",
      "execution_count": 1,
      "outputs": []
    },
    {
      "metadata": {
        "trusted": true,
        "_uuid": "87e37d157e4c47960c598fa9cab0e0208da3962a"
      },
      "cell_type": "code",
      "source": "print(os.listdir('../input'))",
      "execution_count": null,
      "outputs": []
    },
    {
      "metadata": {
        "trusted": true,
        "_uuid": "4ac0f577e6ac5099d5ea97ee44573025a1ba60c5"
      },
      "cell_type": "code",
      "source": "fan_mod_data=pandas.read_csv('../input/acq-data-3status-v2/acq_data_3status_v2.csv')",
      "execution_count": 2,
      "outputs": []
    },
    {
      "metadata": {
        "trusted": true,
        "_uuid": "c02676f8b6518bbf750ebf59d6aded378a2dc03a",
        "collapsed": true
      },
      "cell_type": "code",
      "source": "fan_mod_data.head()",
      "execution_count": null,
      "outputs": []
    },
    {
      "metadata": {
        "trusted": true,
        "_uuid": "c9e87be6bf9d771afce6e990873f06d9a5e061f4"
      },
      "cell_type": "code",
      "source": "fan_mod_data=fan_mod_data.drop(fan_mod_data.columns[[0]],axis=1)",
      "execution_count": 3,
      "outputs": []
    },
    {
      "metadata": {
        "trusted": true,
        "_uuid": "12da9521f87394880402bba4fb9684d82d44bffd"
      },
      "cell_type": "code",
      "source": "fan_mod_data.shape",
      "execution_count": null,
      "outputs": []
    },
    {
      "metadata": {
        "trusted": true,
        "_uuid": "29ccd6c53eae7a8f4887471f372b625434528cbd"
      },
      "cell_type": "code",
      "source": "ss=[]\nfor i in fan_mod_data.columns:\n    ss.append(fan_mod_data[i].isnull().sum())",
      "execution_count": null,
      "outputs": []
    },
    {
      "metadata": {
        "trusted": true,
        "_uuid": "576b0acbaf5e31002edc28f8786ecb9696ffdfe7"
      },
      "cell_type": "code",
      "source": "null_values=pandas.DataFrame(ss,fan_mod_data.columns)\nnull_values",
      "execution_count": null,
      "outputs": []
    },
    {
      "metadata": {
        "_uuid": "342dff84c17b8ed6aa37aec6eaa26893b6d877d7"
      },
      "cell_type": "markdown",
      "source": "Dropping null values of Debt to Income ratio and credit score."
    },
    {
      "metadata": {
        "trusted": true,
        "_uuid": "fc071e39faf820595cce5b29f851b107ce264755"
      },
      "cell_type": "code",
      "source": "dti_null= fan_mod_data[fan_mod_data['ORIGINAL DEBT TO INCOME RATIO'].isnull()]",
      "execution_count": 5,
      "outputs": []
    },
    {
      "metadata": {
        "trusted": true,
        "_uuid": "4a20352a58a1f758d4a7d3a6742ec6996ad9cae9"
      },
      "cell_type": "code",
      "source": "dti_null.index",
      "execution_count": null,
      "outputs": []
    },
    {
      "metadata": {
        "trusted": true,
        "_uuid": "54dce38e94a95c8a79fc701ab6f22b721a797dee"
      },
      "cell_type": "code",
      "source": "fan_data_clean=fan_mod_data.drop(dti_null.index)",
      "execution_count": 6,
      "outputs": []
    },
    {
      "metadata": {
        "trusted": true,
        "_uuid": "adef7bc82bc17f5e38eb5d5a922c3541d083d275"
      },
      "cell_type": "code",
      "source": "fan_data_clean.shape",
      "execution_count": null,
      "outputs": []
    },
    {
      "metadata": {
        "trusted": true,
        "_uuid": "1dcbf4f7d85154d5bc4d02a2245daaa09715c113"
      },
      "cell_type": "code",
      "source": "bcr_null=fan_mod_data[fan_mod_data['BORROWER CREDIT SCORE AT ORIGINATION'].isnull()]",
      "execution_count": 7,
      "outputs": []
    },
    {
      "metadata": {
        "trusted": true,
        "_uuid": "d8b7f996b9ff0a530d9f76d13518b9a811098d78"
      },
      "cell_type": "code",
      "source": "bcr_null.index",
      "execution_count": null,
      "outputs": []
    },
    {
      "metadata": {
        "trusted": true,
        "_uuid": "c20a6973603eb1cabf5a14f0b8193bd75913e0c4"
      },
      "cell_type": "code",
      "source": "fan_data_mod_final=fan_data_clean.drop(bcr_null.index)",
      "execution_count": 8,
      "outputs": []
    },
    {
      "metadata": {
        "trusted": true,
        "_uuid": "c061a2483f011ea458a3b241b29c5a3c4d53ab9d"
      },
      "cell_type": "code",
      "source": "fan_data_mod_final.shape",
      "execution_count": null,
      "outputs": []
    },
    {
      "metadata": {
        "_uuid": "fabc691564d9acfab552123f605d4655ff631cf6"
      },
      "cell_type": "markdown",
      "source": "Model with Logistic regression"
    },
    {
      "metadata": {
        "trusted": true,
        "_uuid": "524f6beca1330c0ef5814ca622ba85b47bee62b8"
      },
      "cell_type": "code",
      "source": "fan_x_data=fan_data_mod_final[['Default_status1','LOAN IDENTIFIER','ORIGINATION CHANNEL','ORIGINAL INTEREST RATE','ORIGINAL UPB','ORIGINAL LOAN TERM','ORIGINAL LOAN-TO-VALUE (LTV)','ORIGINAL DEBT TO INCOME RATIO','BORROWER CREDIT SCORE AT ORIGINATION','FIRST TIME HOME BUYER INDICATOR','PROPERTY TYPE']]",
      "execution_count": 9,
      "outputs": []
    },
    {
      "metadata": {
        "trusted": true,
        "_uuid": "8d815913534ec381de2ce0531b4557f44a0b7a9f"
      },
      "cell_type": "code",
      "source": "fan_x_data.shape",
      "execution_count": null,
      "outputs": []
    },
    {
      "metadata": {
        "trusted": true,
        "_uuid": "ea1b64b607eb088c538a1c0e70b800bc8b7442c6"
      },
      "cell_type": "code",
      "source": "fan_x_model= pandas.get_dummies(fan_x_data,columns=['ORIGINATION CHANNEL','FIRST TIME HOME BUYER INDICATOR','PROPERTY TYPE'])",
      "execution_count": 10,
      "outputs": []
    },
    {
      "metadata": {
        "trusted": true,
        "_uuid": "78c328912b16e3e702b3ef404864021b16a884d2"
      },
      "cell_type": "code",
      "source": "fan_x_model_cr=fan_x_model.copy()",
      "execution_count": 11,
      "outputs": []
    },
    {
      "metadata": {
        "trusted": true,
        "_uuid": "0f9cb81cb8f959ced3ea507cded430b10ef3577f"
      },
      "cell_type": "code",
      "source": "fan_x_model.head()",
      "execution_count": null,
      "outputs": []
    },
    {
      "metadata": {
        "trusted": true,
        "_uuid": "7d0a30b359e150fcdb6a6cce00610914b271da9c"
      },
      "cell_type": "code",
      "source": "fan_x_model.groupby('Default_status1').count()['LOAN IDENTIFIER']",
      "execution_count": null,
      "outputs": []
    },
    {
      "metadata": {
        "trusted": true,
        "_uuid": "1f1a9bacdf7982cc70e0d6e77ce74a4e329b0ce1"
      },
      "cell_type": "code",
      "source": "fan_x_model_cr.groupby('Default_status1').count()['LOAN IDENTIFIER']",
      "execution_count": null,
      "outputs": []
    },
    {
      "metadata": {
        "_uuid": "a621ce2e2c635fd0d1af13d683744c53d11638b5"
      },
      "cell_type": "markdown",
      "source": "The default status codes:\n0 - Non Defaulter\n1 - Defaulter\n100 - Status unknown. After a detailed study of the borrower characteristics under this category (ref EDA file)we assume status as non-defaulter since the characteristics looks similar to defaulter category"
    },
    {
      "metadata": {
        "trusted": true,
        "_uuid": "d0923b3c4474df8f2f2a2f7b9d77e6bb0cc86393"
      },
      "cell_type": "code",
      "source": "fan_x_model_st_known=fan_x_model[fan_x_model['Default_status1'] !=100]",
      "execution_count": 12,
      "outputs": []
    },
    {
      "metadata": {
        "trusted": true,
        "_uuid": "d170c34a7ceebfc33a5f2298407f10059fc8c49d"
      },
      "cell_type": "code",
      "source": "fan_x_model_st_known.shape",
      "execution_count": null,
      "outputs": []
    },
    {
      "metadata": {
        "trusted": true,
        "_uuid": "6963532d2e493353f7beab1c5a1e9ccc4efdd273"
      },
      "cell_type": "code",
      "source": "fan_x_model_st_known.groupby('Default_status1').count()['LOAN IDENTIFIER']",
      "execution_count": null,
      "outputs": []
    },
    {
      "metadata": {
        "trusted": true,
        "_uuid": "ee9437412d4e862fcfb560d462241bf596b7c071"
      },
      "cell_type": "code",
      "source": "fan_x_model_st_unknown=fan_x_model[fan_x_model['Default_status1'] ==100]",
      "execution_count": 13,
      "outputs": []
    },
    {
      "metadata": {
        "trusted": true,
        "_uuid": "800f670e4f3adaea480896751ac2b9dc9c737573"
      },
      "cell_type": "code",
      "source": "fan_x_model_st_unknown.shape",
      "execution_count": null,
      "outputs": []
    },
    {
      "metadata": {
        "trusted": true,
        "_uuid": "700f1523dd3433f457b8a5b69f82f41bda372564"
      },
      "cell_type": "code",
      "source": "fan_x_model_st_unknown.head()",
      "execution_count": null,
      "outputs": []
    },
    {
      "metadata": {
        "_uuid": "123dd0ed6635614499aff40ffdb7554184ca8068"
      },
      "cell_type": "markdown",
      "source": "*****************"
    },
    {
      "metadata": {
        "trusted": true,
        "_uuid": "7cbaf3163cb3bc896fbfa39930946bde04882cd2"
      },
      "cell_type": "code",
      "source": "fan_x_model_st_unknown.groupby('Default_status1').count()['LOAN IDENTIFIER']",
      "execution_count": null,
      "outputs": []
    },
    {
      "metadata": {
        "trusted": true,
        "_uuid": "174a54587b656593381bbe7e4147d8b3ece1d5ef"
      },
      "cell_type": "code",
      "source": "fan_x_model['Default_status1']=numpy.where(fan_x_model['Default_status1']==100,0,fan_x_model['Default_status1'])",
      "execution_count": 14,
      "outputs": []
    },
    {
      "metadata": {
        "trusted": true,
        "_uuid": "2910aa0c290ce9f55cbc899da5c7c7bb836fadb0"
      },
      "cell_type": "code",
      "source": "fan_x_model.groupby('Default_status1').count()['LOAN IDENTIFIER']",
      "execution_count": null,
      "outputs": []
    },
    {
      "metadata": {
        "trusted": true,
        "_uuid": "6656c1ff5942d7f273a76e8fb05303c31e8bd5e0"
      },
      "cell_type": "code",
      "source": "fan_x_model_cr.groupby('Default_status1').count()['LOAN IDENTIFIER']",
      "execution_count": null,
      "outputs": []
    },
    {
      "metadata": {
        "trusted": true,
        "_uuid": "071bbd18f6dad2c62e05294d9f1699160a1438bb"
      },
      "cell_type": "code",
      "source": "fan_x_model.shape",
      "execution_count": null,
      "outputs": []
    },
    {
      "metadata": {
        "trusted": true,
        "_uuid": "f178fc3e0756c73f1e646d3c1745525f91137a67"
      },
      "cell_type": "code",
      "source": "import statsmodels.api as sm\nfrom sklearn.model_selection import train_test_split\nfrom sklearn.metrics import accuracy_score",
      "execution_count": 15,
      "outputs": []
    },
    {
      "metadata": {
        "_uuid": "218964b202763bd044fbb7138ef1749fe489dc40"
      },
      "cell_type": "markdown",
      "source": "Modelling without over/under sampling."
    },
    {
      "metadata": {
        "trusted": true,
        "_uuid": "9b3d73ae713251e8f244fe5b886cee54988a00f0"
      },
      "cell_type": "code",
      "source": "x_train,x_test,y_train,y_test=train_test_split(fan_x_model.drop(['Default_status1','LOAN IDENTIFIER',],axis=1),fan_x_model['Default_status1'],test_size=0.2,random_state=100)",
      "execution_count": 16,
      "outputs": []
    },
    {
      "metadata": {
        "_uuid": "e7a98bb58e47354ab7b4a25a2dbd4b62ee547a3c"
      },
      "cell_type": "markdown",
      "source": "For GBM changing the train and test set size"
    },
    {
      "metadata": {
        "trusted": true,
        "_uuid": "f1288cc9893d399fbef9ad5701ffaa8bf90b4e22"
      },
      "cell_type": "code",
      "source": "x_train=sm.add_constant(x_train)",
      "execution_count": 17,
      "outputs": []
    },
    {
      "metadata": {
        "trusted": true,
        "_uuid": "d130e433235e8289860f3008be2edd706e2f6c5f"
      },
      "cell_type": "code",
      "source": "x_train.columns",
      "execution_count": null,
      "outputs": []
    },
    {
      "metadata": {
        "trusted": true,
        "_uuid": "e30108b9419680151966bf999f3c2382fcc0b217"
      },
      "cell_type": "code",
      "source": "x_test.columns",
      "execution_count": null,
      "outputs": []
    },
    {
      "metadata": {
        "trusted": true,
        "_uuid": "b6a66acea3d2b8fdf4d35b2461908b59cc2c7a6f"
      },
      "cell_type": "code",
      "source": "model=sm.GLM(y_train,x_train,family=sm.families.Binomial()).fit()",
      "execution_count": 18,
      "outputs": []
    },
    {
      "metadata": {
        "trusted": true,
        "_uuid": "154976e19bb5ffff8fc72abffbb25aef25035b41"
      },
      "cell_type": "code",
      "source": "print(model.summary())",
      "execution_count": null,
      "outputs": []
    },
    {
      "metadata": {
        "trusted": true,
        "_uuid": "55dc1c0a551e95e1eb3a42204dc1026140cdf071"
      },
      "cell_type": "markdown",
      "source": "Modelling after oversampling\n(considering the fact that Defaulter category is less than 1% of the total number of borrowers. We chose oversampling to ensure that the characteristics of non-defaulters is not lost."
    },
    {
      "metadata": {
        "trusted": true,
        "_uuid": "6e53f0b9d56f97739bb854c04e81e94db28e1653"
      },
      "cell_type": "code",
      "source": "from imblearn.over_sampling import RandomOverSampler",
      "execution_count": null,
      "outputs": []
    },
    {
      "metadata": {
        "trusted": true,
        "_uuid": "c1e0a08d47a7d8c66b02470f759a37e6d4d9e517"
      },
      "cell_type": "code",
      "source": "ros = RandomOverSampler(random_state=0)\n",
      "execution_count": null,
      "outputs": []
    },
    {
      "metadata": {
        "trusted": true,
        "_uuid": "042f950343244c31ffea55baa33f40ec70a7af52"
      },
      "cell_type": "code",
      "source": "x_train_s,y_train_s=ros.fit_resample(x_train,y_train)",
      "execution_count": null,
      "outputs": []
    },
    {
      "metadata": {
        "trusted": true,
        "collapsed": true,
        "_uuid": "3432de3dcfa0096f85e81cf768e7731971bb829d"
      },
      "cell_type": "code",
      "source": "x_train_s",
      "execution_count": null,
      "outputs": []
    },
    {
      "metadata": {
        "trusted": true,
        "_uuid": "b16b92f694d221a3922eebe223ae877a29398c23"
      },
      "cell_type": "code",
      "source": "model_s=sm.GLM(y_train_s,x_train_s,family=sm.families.Binomial()).fit()",
      "execution_count": null,
      "outputs": []
    },
    {
      "metadata": {
        "trusted": true,
        "_uuid": "6a69e33d77aa6924b0e3946910cea8a544f78864"
      },
      "cell_type": "code",
      "source": "print(model_s.summary())",
      "execution_count": null,
      "outputs": []
    },
    {
      "metadata": {
        "trusted": true,
        "_uuid": "512f15ee9f12a1370fe60c32307ac4f6260632fb"
      },
      "cell_type": "markdown",
      "source": "All the variables are statistically significant.\nWe will analyze the Deviance values for possible logical combinations of variables."
    },
    {
      "metadata": {
        "trusted": true,
        "_uuid": "51ae5cf2587efc314e332753a9c09670b5808a20"
      },
      "cell_type": "markdown",
      "source": "Various logical combinations being executed through a loop to obtain the Deviance values."
    },
    {
      "metadata": {
        "trusted": true,
        "_uuid": "ac2e524e290d4a4e83439ef2210e8e7b0333f942"
      },
      "cell_type": "code",
      "source": "x_var=[['ORIGINAL INTEREST RATE','ORIGINAL UPB','ORIGINAL LOAN TERM','ORIGINAL LOAN-TO-VALUE (LTV)','ORIGINAL DEBT TO INCOME RATIO','BORROWER CREDIT SCORE AT ORIGINATION','ORIGINATION CHANNEL_B','ORIGINATION CHANNEL_C','ORIGINATION CHANNEL_R','FIRST TIME HOME BUYER INDICATOR_N','FIRST TIME HOME BUYER INDICATOR_Y','PROPERTY TYPE_CO','PROPERTY TYPE_CP','PROPERTY TYPE_MH','PROPERTY TYPE_PU','PROPERTY TYPE_SF'],\n['ORIGINAL INTEREST RATE','ORIGINAL UPB','ORIGINAL LOAN TERM','ORIGINAL LOAN-TO-VALUE (LTV)','ORIGINAL DEBT TO INCOME RATIO','BORROWER CREDIT SCORE AT ORIGINATION','ORIGINATION CHANNEL_B','ORIGINATION CHANNEL_C','ORIGINATION CHANNEL_R','FIRST TIME HOME BUYER INDICATOR_N','FIRST TIME HOME BUYER INDICATOR_Y'],\n['ORIGINAL INTEREST RATE','ORIGINAL UPB','ORIGINAL LOAN TERM','ORIGINAL LOAN-TO-VALUE (LTV)','ORIGINAL DEBT TO INCOME RATIO','BORROWER CREDIT SCORE AT ORIGINATION','ORIGINATION CHANNEL_B','ORIGINATION CHANNEL_C','ORIGINATION CHANNEL_R'],\n['ORIGINAL INTEREST RATE','ORIGINAL UPB','ORIGINAL LOAN TERM','ORIGINAL LOAN-TO-VALUE (LTV)','ORIGINAL DEBT TO INCOME RATIO','BORROWER CREDIT SCORE AT ORIGINATION'],\n['ORIGINAL INTEREST RATE','ORIGINAL UPB','ORIGINAL LOAN TERM','ORIGINAL LOAN-TO-VALUE (LTV)','ORIGINAL DEBT TO INCOME RATIO','BORROWER CREDIT SCORE AT ORIGINATION','FIRST TIME HOME BUYER INDICATOR_N','FIRST TIME HOME BUYER INDICATOR_Y','PROPERTY TYPE_CO','PROPERTY TYPE_CP','PROPERTY TYPE_MH','PROPERTY TYPE_PU','PROPERTY TYPE_SF'],\n['ORIGINAL INTEREST RATE','ORIGINAL UPB','ORIGINAL LOAN TERM','ORIGINAL LOAN-TO-VALUE (LTV)','ORIGINAL DEBT TO INCOME RATIO','BORROWER CREDIT SCORE AT ORIGINATION','PROPERTY TYPE_CO','PROPERTY TYPE_CP','PROPERTY TYPE_MH','PROPERTY TYPE_PU','PROPERTY TYPE_SF']]\n",
      "execution_count": null,
      "outputs": []
    },
    {
      "metadata": {
        "trusted": true,
        "_uuid": "fe70f01b1941394a9a11cf0bc775edd45aba0cbb"
      },
      "cell_type": "code",
      "source": "devian=[]\ndep_var=[]\nfor i in x_var:\n    x7_train,x7_test,y7_train,y7_test=train_test_split(fan_x_model[i],fan_x_model['Default_status1'],test_size=0.2,random_state=100)\n    x7_train=sm.add_constant(x7_train)\n    ros = RandomOverSampler(random_state=0)\n    x7_train_s,y7_train_s=ros.fit_resample(x7_train,y7_train)\n    model2=sm.GLM(y7_train_s,x7_train_s,family=sm.families.Binomial()).fit()\n    dep_var.append(i)\n    devian.append(model2.deviance)\n    \n",
      "execution_count": null,
      "outputs": []
    },
    {
      "metadata": {
        "trusted": true,
        "_uuid": "45f42853aefd3f0ff0573f0a487ac5e06c77b96e"
      },
      "cell_type": "code",
      "source": "devian",
      "execution_count": null,
      "outputs": []
    },
    {
      "metadata": {
        "trusted": true,
        "_uuid": "eae093808ec60aa97458114bccbba8c71c8e1f4f"
      },
      "cell_type": "markdown",
      "source": "**The Deviance value 719186 is the least.  This is obtained when all the 16 variables were provided as input. They all are statistically significant at 99% confidence level.  Model1 can be considered as the best fit model from deviance (sum of errors is least) and Pvalues of x variables perspective.**"
    },
    {
      "metadata": {
        "_uuid": "eb62e2c4e0b6ab4fb78a76c173483c4c7f1c56f3"
      },
      "cell_type": "markdown",
      "source": "**Predictions, AUROC and ROC curve using model_s **"
    },
    {
      "metadata": {
        "trusted": true,
        "_uuid": "fff7c112dbc06eabbec02fee87803c59ae231b29"
      },
      "cell_type": "code",
      "source": "from sklearn.metrics import roc_curve, roc_auc_score",
      "execution_count": 22,
      "outputs": []
    },
    {
      "metadata": {
        "trusted": true,
        "_uuid": "d0ce892f4c19eedbbd52ff8d188f50012c8e0a73"
      },
      "cell_type": "code",
      "source": "prediction_s=model_s.predict(sm.add_constant(x_test))",
      "execution_count": null,
      "outputs": []
    },
    {
      "metadata": {
        "trusted": true,
        "_uuid": "d49da25fcefe2993254e28e2949654d7d0b502f1"
      },
      "cell_type": "code",
      "source": "print(roc_auc_score(y_test,prediction_s))",
      "execution_count": null,
      "outputs": []
    },
    {
      "metadata": {
        "trusted": true,
        "_uuid": "86d07a89c498fdeb0f19a1ac5b3fb14b8c5a0f5a"
      },
      "cell_type": "markdown",
      "source": "Randomly considering 0.8 as the probability for default cut-off"
    },
    {
      "metadata": {
        "trusted": true,
        "_uuid": "2d3acaf07b62390f372c087a30307717aa147384"
      },
      "cell_type": "code",
      "source": "prediction_st=numpy.where((prediction_s>0.8),1,0)",
      "execution_count": null,
      "outputs": []
    },
    {
      "metadata": {
        "trusted": true,
        "_uuid": "bd0661236012ea71141f41bcf593729b720877c4"
      },
      "cell_type": "code",
      "source": "accuracy_score(y_test,prediction_st)",
      "execution_count": null,
      "outputs": []
    },
    {
      "metadata": {
        "trusted": true,
        "_uuid": "99c6eaef23024e7fe97757fa54ea2a2a9b9e0cf6"
      },
      "cell_type": "code",
      "source": "from sklearn.metrics import confusion_matrix",
      "execution_count": 21,
      "outputs": []
    },
    {
      "metadata": {
        "trusted": true,
        "_uuid": "22b867e346528cced675fa8472faab97c987f696"
      },
      "cell_type": "code",
      "source": "conf_mat=confusion_matrix(y_test,prediction_st)",
      "execution_count": null,
      "outputs": []
    },
    {
      "metadata": {
        "trusted": true,
        "_uuid": "7b7603749906592eae699e35d52ff34434ee7903"
      },
      "cell_type": "code",
      "source": "conf_mat_df=pandas.DataFrame(conf_mat,index=['Actual Negative',\"Actual Positive\"],columns=['Predicted Negative','Predicted Positive'])",
      "execution_count": null,
      "outputs": []
    },
    {
      "metadata": {
        "trusted": true,
        "_uuid": "448f40f6ccb1670abc026984435836c1a78f46c0"
      },
      "cell_type": "code",
      "source": "conf_mat_df",
      "execution_count": null,
      "outputs": []
    },
    {
      "metadata": {
        "trusted": true,
        "_uuid": "591f9ee1b5da76e3c7a7e08adc25e108c79e92ba"
      },
      "cell_type": "code",
      "source": "fpr,tpr,threshold= roc_curve(y_test,prediction_s)",
      "execution_count": null,
      "outputs": []
    },
    {
      "metadata": {
        "trusted": true,
        "_uuid": "52fcd9a935a99ead7fb2bc38b7f07ffe30f8732a"
      },
      "cell_type": "markdown",
      "source": "Generating a ROC curve and identifying optimal threshold. "
    },
    {
      "metadata": {
        "trusted": true,
        "_uuid": "623558cfbab23a9d88670c73ab566c02d0709703"
      },
      "cell_type": "code",
      "source": "plt.plot(fpr,tpr, 'b')\nplt.ylabel('True Positive Rate')\nplt.xlabel(\"False Positive Rate\")",
      "execution_count": null,
      "outputs": []
    },
    {
      "metadata": {
        "_uuid": "ee446b15d53f68ccfc2af7d3ad7ef88f99bab5fa"
      },
      "cell_type": "markdown",
      "source": "AUC (Area under the curve) is better than a random classifier. Curve seems to have the highest true positive rate at 0.4 false positive rate and then flattens."
    },
    {
      "metadata": {
        "trusted": true,
        "_uuid": "7211bbe9bf8fa051b0ab25bca1c6403c17a6ecab"
      },
      "cell_type": "code",
      "source": "optimal_th=numpy.argmax(tpr-fpr)",
      "execution_count": null,
      "outputs": []
    },
    {
      "metadata": {
        "trusted": true,
        "_uuid": "497a206975e396a4a9adb15589d35ef79b9a696a"
      },
      "cell_type": "code",
      "source": "threshold[optimal_th]",
      "execution_count": null,
      "outputs": []
    },
    {
      "metadata": {
        "_uuid": "69941d4f4af15a79196672662331ae4ed82abf19"
      },
      "cell_type": "markdown",
      "source": "With the optimal threshold cut-off we will re-classify the test dataset to check for accuracy."
    },
    {
      "metadata": {
        "trusted": true,
        "_uuid": "2b1d78b1db62110276d98043f731d71c2bd0af7a"
      },
      "cell_type": "code",
      "source": "prediction_st_th=numpy.where((prediction_s>0.47),1,0)",
      "execution_count": null,
      "outputs": []
    },
    {
      "metadata": {
        "trusted": true,
        "_uuid": "0f66ce64e0e71c44849f6088b79013c828d5fcb3"
      },
      "cell_type": "code",
      "source": "conf_mat_th=confusion_matrix(y_test,prediction_st_th)",
      "execution_count": null,
      "outputs": []
    },
    {
      "metadata": {
        "trusted": true,
        "_uuid": "7f6c4b1dcf7bf98b217f901326bba10c4942046d"
      },
      "cell_type": "code",
      "source": "conf_mat_th_df=pandas.DataFrame(conf_mat_th,index=['Actual Negative',\"Actual Positive\"],columns=['Predicted Negative','Predicted Positive'])",
      "execution_count": null,
      "outputs": []
    },
    {
      "metadata": {
        "trusted": true,
        "_uuid": "06bf4e4e6ee39d0bc61fd4196a30f7c7ea268a65"
      },
      "cell_type": "code",
      "source": "conf_mat_th_df",
      "execution_count": null,
      "outputs": []
    },
    {
      "metadata": {
        "trusted": true,
        "_uuid": "19e28c82eeb73fc1db46d3368e9de7e43c2b634a"
      },
      "cell_type": "code",
      "source": "conf_mat_df",
      "execution_count": null,
      "outputs": []
    },
    {
      "metadata": {
        "trusted": true,
        "_uuid": "b5cc7716b49679f2d8726a117fcfc12f1b60078f"
      },
      "cell_type": "code",
      "source": "accuracy_score(y_test,prediction_st)",
      "execution_count": null,
      "outputs": []
    },
    {
      "metadata": {
        "trusted": true,
        "_uuid": "bdecc9c32a820b121b09e8de7f9d46bf4fb4064d"
      },
      "cell_type": "code",
      "source": "accuracy_score(y_test,prediction_st_th)",
      "execution_count": null,
      "outputs": []
    },
    {
      "metadata": {
        "trusted": true,
        "_uuid": "256fb7daab6be81745591dbf1769509383237180"
      },
      "cell_type": "markdown",
      "source": "* **Error rate when the probability cut-off @ 80% is 6.2%\n* Error rate when the probability cut-off is set to optimal threshold of 47% is 28.8%\n\n* **Defaulter classification rate@80% Probability is 37.7%\n* Non Defaulter classification) rate @ 80% Probability is 94.3%\n* **\n* Defaulter classification) rate@47% Probability is 78.25%\n* Non Defaulter classification) rate @ 47% Probability is 71.03%\n**"
    },
    {
      "metadata": {
        "trusted": true,
        "_uuid": "3aa27d330fd35d368e835eb0c68f0302dcc1cd13"
      },
      "cell_type": "code",
      "source": "predict_m=model.predict(sm.add_constant(x_test))",
      "execution_count": 19,
      "outputs": []
    },
    {
      "metadata": {
        "trusted": true,
        "_uuid": "29b2d2bc3f3420a6d828e84cd8120197c43c2673"
      },
      "cell_type": "code",
      "source": "print(roc_auc_score(y_test,predict_m))",
      "execution_count": 23,
      "outputs": [
        {
          "output_type": "stream",
          "text": "0.8193948213546655\n",
          "name": "stdout"
        }
      ]
    },
    {
      "metadata": {
        "trusted": true,
        "collapsed": true,
        "_uuid": "6dadf881d15074d14d0819df23f62efa8333ec84"
      },
      "cell_type": "code",
      "source": "predict_m",
      "execution_count": null,
      "outputs": []
    },
    {
      "metadata": {
        "trusted": true,
        "_uuid": "be3f54a879b12d5d02d4276e7e2de99b78b2f00d"
      },
      "cell_type": "code",
      "source": "fpr1,tpr1,threshold1= roc_curve(y_test,predict_m)",
      "execution_count": 24,
      "outputs": []
    },
    {
      "metadata": {
        "trusted": true,
        "_uuid": "64b654ad0c53bb7cce6ed75ac189b0dc6e0ce2fa"
      },
      "cell_type": "code",
      "source": "plt.plot(fpr1,tpr1, 'b')\nplt.ylabel('True Positive Rate')\nplt.xlabel(\"False Positive Rate\")",
      "execution_count": 25,
      "outputs": [
        {
          "output_type": "execute_result",
          "execution_count": 25,
          "data": {
            "text/plain": "Text(0.5,0,'False Positive Rate')"
          },
          "metadata": {}
        },
        {
          "output_type": "display_data",
          "data": {
            "text/plain": "<Figure size 432x288 with 1 Axes>",
            "image/png": "[encoded data removed]"
          },
          "metadata": {}
        }
      ]
    },
    {
      "metadata": {
        "trusted": true,
        "_uuid": "9f90b557383d5e847e6b2d715260fd183124a85d"
      },
      "cell_type": "code",
      "source": "optimal_th=numpy.argmax(tpr1-fpr1)",
      "execution_count": 27,
      "outputs": []
    },
    {
      "metadata": {
        "trusted": true,
        "_uuid": "86bc33d1b29d535e260037ee0bc796e1644341e0"
      },
      "cell_type": "code",
      "source": "threshold1[optimal_th]",
      "execution_count": 29,
      "outputs": [
        {
          "output_type": "execute_result",
          "execution_count": 29,
          "data": {
            "text/plain": "0.007990223330977623"
          },
          "metadata": {}
        }
      ]
    },
    {
      "metadata": {
        "trusted": true,
        "_uuid": "750df3a346389d13becdb6dc24040018386134c8"
      },
      "cell_type": "code",
      "source": "prediction_st_th1=numpy.where((predict_m>0.008),1,0)",
      "execution_count": 30,
      "outputs": []
    },
    {
      "metadata": {
        "trusted": true,
        "_uuid": "9ac1c6e2b8f44913078e920753c15159104aa697"
      },
      "cell_type": "code",
      "source": "accuracy_score(y_test,prediction_st_th1)",
      "execution_count": 31,
      "outputs": [
        {
          "output_type": "execute_result",
          "execution_count": 31,
          "data": {
            "text/plain": "0.7496617670664313"
          },
          "metadata": {}
        }
      ]
    },
    {
      "metadata": {
        "trusted": true,
        "_uuid": "0db5924e6fd0fd85781c44952c65a2a0870c870c"
      },
      "cell_type": "code",
      "source": "conf_mat_th1=confusion_matrix(y_test,prediction_st_th1)",
      "execution_count": 32,
      "outputs": []
    },
    {
      "metadata": {
        "trusted": true,
        "_uuid": "2231dada101cab06d09425e10d7a2c0faf6f630d"
      },
      "cell_type": "code",
      "source": "conf_mat_th1_df=pandas.DataFrame(conf_mat_th1,index=['Actual Negative',\"Actual Positive\"],columns=['Predicted Negative','Predicted Positive'])",
      "execution_count": 33,
      "outputs": []
    },
    {
      "metadata": {
        "trusted": true,
        "_uuid": "f5a89f57d89469390c88c46e7ae16499acfa851c"
      },
      "cell_type": "code",
      "source": "conf_mat_th1_df",
      "execution_count": 34,
      "outputs": [
        {
          "output_type": "execute_result",
          "execution_count": 34,
          "data": {
            "text/plain": "                 Predicted Negative  Predicted Positive\nActual Negative               64900               21665\nActual Positive                 169                 484",
            "text/html": "<div>\n<style scoped>\n    .dataframe tbody tr th:only-of-type {\n        vertical-align: middle;\n    }\n\n    .dataframe tbody tr th {\n        vertical-align: top;\n    }\n\n    .dataframe thead th {\n        text-align: right;\n    }\n</style>\n<table border=\"1\" class=\"dataframe\">\n  <thead>\n    <tr style=\"text-align: right;\">\n      <th></th>\n      <th>Predicted Negative</th>\n      <th>Predicted Positive</th>\n    </tr>\n  </thead>\n  <tbody>\n    <tr>\n      <th>Actual Negative</th>\n      <td>64900</td>\n      <td>21665</td>\n    </tr>\n    <tr>\n      <th>Actual Positive</th>\n      <td>169</td>\n      <td>484</td>\n    </tr>\n  </tbody>\n</table>\n</div>"
          },
          "metadata": {}
        }
      ]
    },
    {
      "metadata": {
        "_uuid": "7d7cb9d72561f3e41dff38cf659e11ab0cd362ab"
      },
      "cell_type": "markdown",
      "source": "The prediction  of Defaulters has doubled but it also reduced the non-defaulter classification.\n"
    },
    {
      "metadata": {
        "_uuid": "1334f249d45af13be6d4b2f808478983ac6d181b"
      },
      "cell_type": "markdown",
      "source": "Classification using Ensemble method - Random Forest to check if it improves the classification rate."
    },
    {
      "metadata": {
        "trusted": true,
        "_uuid": "af3832e4c536fad0d60114b83756092ea87f4bb2"
      },
      "cell_type": "code",
      "source": "from sklearn.ensemble import RandomForestClassifier",
      "execution_count": 35,
      "outputs": []
    },
    {
      "metadata": {
        "trusted": true,
        "_uuid": "9c8a21bc87351fc27544916be3fd9376bf1d1802"
      },
      "cell_type": "code",
      "source": "rf_model = RandomForestClassifier(n_estimators=500, n_jobs=-1)",
      "execution_count": null,
      "outputs": []
    },
    {
      "metadata": {
        "trusted": true,
        "_uuid": "58088b85b20b674e51b224596cd66ff2376d463b"
      },
      "cell_type": "code",
      "source": "rf_model.fit(x_train_s, y_train_s)",
      "execution_count": null,
      "outputs": []
    },
    {
      "metadata": {
        "trusted": true,
        "_uuid": "d2c8ecc15b097b795a651796a9469515c25c7373"
      },
      "cell_type": "code",
      "source": "prediction_rf=rf_model.predict(sm.add_constant(x_test))",
      "execution_count": null,
      "outputs": []
    },
    {
      "metadata": {
        "trusted": true,
        "_uuid": "ff97c541bc5e6b87b9f1c0e9edf7f29315b3b6ec"
      },
      "cell_type": "code",
      "source": "accuracy_score(y_test,prediction_rf)",
      "execution_count": null,
      "outputs": []
    },
    {
      "metadata": {
        "trusted": true,
        "_uuid": "6ad42545223f9b3c80ae9fcc064ad943ecd119f9"
      },
      "cell_type": "code",
      "source": "conf_mat_rf=confusion_matrix(y_test,prediction_rf)",
      "execution_count": null,
      "outputs": []
    },
    {
      "metadata": {
        "trusted": true,
        "_uuid": "1e4747c47602bc6971deef00703705bf53b33fc5"
      },
      "cell_type": "code",
      "source": "conf_mat_rf_df=pandas.DataFrame(conf_mat_rf,index=['Actual Negative',\"Actual Positive\"],columns=['Predicted Negative','Predicted Positive'])",
      "execution_count": null,
      "outputs": []
    },
    {
      "metadata": {
        "trusted": true,
        "_uuid": "f1f476896b0704c7dd461484d971afa0df0d15ab"
      },
      "cell_type": "code",
      "source": "conf_mat_rf_df",
      "execution_count": null,
      "outputs": []
    },
    {
      "metadata": {
        "_uuid": "6c4ca5ab2352ecd8db33fe9f4cbe05de0dae0f83"
      },
      "cell_type": "markdown",
      "source": "Applying Random Forest without oversampling"
    },
    {
      "metadata": {
        "trusted": true,
        "_uuid": "d37e051c6c82cfa5609a98881a8cf028ff6f2609"
      },
      "cell_type": "code",
      "source": "rf_model1 = RandomForestClassifier(n_estimators=500, n_jobs=-1)",
      "execution_count": null,
      "outputs": []
    },
    {
      "metadata": {
        "trusted": true,
        "_uuid": "2608bded5f719c4369c15ff43bcb6a9f9d02972d"
      },
      "cell_type": "code",
      "source": "rf_model1.fit(x_train, y_train)",
      "execution_count": null,
      "outputs": []
    },
    {
      "metadata": {
        "trusted": true,
        "_uuid": "b56eb5d05a732fe6043104432e0e471ecc66cb98"
      },
      "cell_type": "code",
      "source": "prediction_rf_1=rf_model1.predict(sm.add_constant(x_test))",
      "execution_count": null,
      "outputs": []
    },
    {
      "metadata": {
        "trusted": true,
        "_uuid": "2da1823ac864c7bec1fe055935078795a75451c4"
      },
      "cell_type": "code",
      "source": "conf_mat_rf_1=confusion_matrix(y_test,prediction_rf_1)",
      "execution_count": null,
      "outputs": []
    },
    {
      "metadata": {
        "trusted": true,
        "_uuid": "ec30e9c2674a3d49ffb8dd0e5280c7b93283664e"
      },
      "cell_type": "code",
      "source": "conf_mat_rf_1_df=pandas.DataFrame(conf_mat_rf_1,index=['Actual Negative',\"Actual Positive\"],columns=['Predicted Negative','Predicted Positive'])",
      "execution_count": null,
      "outputs": []
    },
    {
      "metadata": {
        "trusted": true,
        "_uuid": "1f823f303c1154ca6f8f69f62aa173ddab39fa65"
      },
      "cell_type": "code",
      "source": "conf_mat_rf_1_df",
      "execution_count": null,
      "outputs": []
    },
    {
      "metadata": {
        "_uuid": "c386209961e94b7d46febb431b92e406d017dac5"
      },
      "cell_type": "markdown",
      "source": "**From the confusion matrix it is understood that though the prediction accuracy is 99% the model did not predict any defaulters. \nThis implies that as per the model classification the True positive rate is 0%. Which is not a desirable classification and also not practical.**"
    },
    {
      "metadata": {
        "_uuid": "9c09bfbb691280065467470f752b22506af2d81b"
      },
      "cell_type": "markdown",
      "source": "We will undersample the training data to check if there is a change in the defaulter classification rate."
    },
    {
      "metadata": {
        "trusted": true,
        "_uuid": "a51d169e2db7af490c1a8b566acd23419db32d78"
      },
      "cell_type": "code",
      "source": "x_train_rf=x_train.drop('const',axis=1)",
      "execution_count": 36,
      "outputs": []
    },
    {
      "metadata": {
        "trusted": true,
        "_uuid": "6bdfcd14b05d6db24cfebc418e9a0e50810d3a5c"
      },
      "cell_type": "code",
      "source": "from imblearn.under_sampling import RandomUnderSampler",
      "execution_count": 37,
      "outputs": [
        {
          "output_type": "stream",
          "text": "Using TensorFlow backend.\n",
          "name": "stderr"
        }
      ]
    },
    {
      "metadata": {
        "trusted": true,
        "_uuid": "4031c519bf835a86302761c71a2439390866b3ea"
      },
      "cell_type": "code",
      "source": "rus = RandomUnderSampler(random_state=0)\nx_train_us,y_train_us=rus.fit_resample(x_train_rf,y_train)",
      "execution_count": 38,
      "outputs": []
    },
    {
      "metadata": {
        "trusted": true,
        "_uuid": "245930d5f18a146fa204a86ef01c3b4ed5dae0b0"
      },
      "cell_type": "code",
      "source": "rf_model2 = RandomForestClassifier(n_estimators=500, n_jobs=-1)",
      "execution_count": 39,
      "outputs": []
    },
    {
      "metadata": {
        "trusted": true,
        "_uuid": "655bd4a0bd3dc486b3c848bff1b64a36325f8e3b"
      },
      "cell_type": "code",
      "source": "rf_model2.fit(x_train_us, y_train_us)",
      "execution_count": 40,
      "outputs": [
        {
          "output_type": "execute_result",
          "execution_count": 40,
          "data": {
            "text/plain": "RandomForestClassifier(bootstrap=True, class_weight=None, criterion='gini',\n            max_depth=None, max_features='auto', max_leaf_nodes=None,\n            min_impurity_decrease=0.0, min_impurity_split=None,\n            min_samples_leaf=1, min_samples_split=2,\n            min_weight_fraction_leaf=0.0, n_estimators=500, n_jobs=-1,\n            oob_score=False, random_state=None, verbose=0,\n            warm_start=False)"
          },
          "metadata": {}
        }
      ]
    },
    {
      "metadata": {
        "trusted": true,
        "_uuid": "5925514177264bf85164dca1e1244e81e97c6c8c"
      },
      "cell_type": "code",
      "source": "prediction_rf_2=rf_model2.predict(x_test)",
      "execution_count": 41,
      "outputs": []
    },
    {
      "metadata": {
        "trusted": true,
        "_uuid": "15fe9e00784cc46894682f4680e437a04ce10f1c"
      },
      "cell_type": "code",
      "source": "accuracy_score(y_test,prediction_rf_2)",
      "execution_count": 42,
      "outputs": [
        {
          "output_type": "execute_result",
          "execution_count": 42,
          "data": {
            "text/plain": "0.7170652846889404"
          },
          "metadata": {}
        }
      ]
    },
    {
      "metadata": {
        "trusted": true,
        "_uuid": "2b07d93c34fba93cc23f5472c92eb509458e0536"
      },
      "cell_type": "code",
      "source": "conf_mat_rf_2=confusion_matrix(y_test,prediction_rf_2)",
      "execution_count": 43,
      "outputs": []
    },
    {
      "metadata": {
        "trusted": true,
        "_uuid": "9926ff3d445a4c69be021bb21f07b728aea15a24"
      },
      "cell_type": "code",
      "source": "conf_mat_rf_2_df=pandas.DataFrame(conf_mat_rf_2,index=['Actual Negative',\"Actual Positive\"],columns=['Predicted Negative','Predicted Positive'])",
      "execution_count": 44,
      "outputs": []
    },
    {
      "metadata": {
        "trusted": true,
        "_uuid": "fbc42cc7a239644f484e66900c86829cc2c9cddc"
      },
      "cell_type": "code",
      "source": "conf_mat_rf_2_df",
      "execution_count": 45,
      "outputs": [
        {
          "output_type": "execute_result",
          "execution_count": 45,
          "data": {
            "text/plain": "                 Predicted Negative  Predicted Positive\nActual Negative               62046               24519\nActual Positive                 158                 495",
            "text/html": "<div>\n<style scoped>\n    .dataframe tbody tr th:only-of-type {\n        vertical-align: middle;\n    }\n\n    .dataframe tbody tr th {\n        vertical-align: top;\n    }\n\n    .dataframe thead th {\n        text-align: right;\n    }\n</style>\n<table border=\"1\" class=\"dataframe\">\n  <thead>\n    <tr style=\"text-align: right;\">\n      <th></th>\n      <th>Predicted Negative</th>\n      <th>Predicted Positive</th>\n    </tr>\n  </thead>\n  <tbody>\n    <tr>\n      <th>Actual Negative</th>\n      <td>62046</td>\n      <td>24519</td>\n    </tr>\n    <tr>\n      <th>Actual Positive</th>\n      <td>158</td>\n      <td>495</td>\n    </tr>\n  </tbody>\n</table>\n</div>"
          },
          "metadata": {}
        }
      ]
    },
    {
      "metadata": {
        "_uuid": "1ed2cfa51e9cb974e096adacfdbac711a517e6af"
      },
      "cell_type": "markdown",
      "source": "The classification rate looks similar to the values obtained using logistic regression model."
    },
    {
      "metadata": {
        "_uuid": "c26fd31493286965299b96119c67ce1a9369459a"
      },
      "cell_type": "markdown",
      "source": "**Classification Using Neural net**"
    },
    {
      "metadata": {
        "trusted": true,
        "_uuid": "4c96121938cb1668a4fd48e7c1a4a819500d9b72"
      },
      "cell_type": "code",
      "source": "from sklearn.neural_network import MLPClassifier",
      "execution_count": null,
      "outputs": []
    },
    {
      "metadata": {
        "trusted": true,
        "_uuid": "dee9b827b9ba82b8b6aeedbce56dd41858b67a18"
      },
      "cell_type": "code",
      "source": "clf = MLPClassifier(solver='lbfgs',activation='logistic', alpha=1e-5,hidden_layer_sizes=(100,75), random_state=1)",
      "execution_count": null,
      "outputs": []
    },
    {
      "metadata": {
        "trusted": true,
        "_uuid": "8f42362854973d096145537e98968ad9dfee8ef4"
      },
      "cell_type": "code",
      "source": "clf.fit(x_train_s, y_train_s)",
      "execution_count": null,
      "outputs": []
    },
    {
      "metadata": {
        "trusted": true,
        "_uuid": "12385c1d22cef35b867074c9e003b5260011c00c"
      },
      "cell_type": "code",
      "source": "pred_nn=clf.predict(sm.add_constant(x_test))",
      "execution_count": null,
      "outputs": []
    },
    {
      "metadata": {
        "trusted": true,
        "_uuid": "6ed218be7c26756b31664c46ca850f8ae51d4b90"
      },
      "cell_type": "code",
      "source": "accuracy_score(y_test,pred_nn)",
      "execution_count": null,
      "outputs": []
    },
    {
      "metadata": {
        "trusted": true,
        "_uuid": "7d90774b417574dc58a8998ede7f13af6daa44f8"
      },
      "cell_type": "code",
      "source": "conf_mat_nn=confusion_matrix(y_test,pred_nn)",
      "execution_count": null,
      "outputs": []
    },
    {
      "metadata": {
        "trusted": true,
        "_uuid": "6666112febb7c5d1da926dae6fa1651cdfb9c38b"
      },
      "cell_type": "code",
      "source": "conf_mat_nn_df=pandas.DataFrame(conf_mat_nn,index=['Actual Negative',\"Actual Positive\"],columns=['Predicted Negative','Predicted Positive'])",
      "execution_count": null,
      "outputs": []
    },
    {
      "metadata": {
        "trusted": true,
        "_uuid": "a8d0ccd0be52d5f44225a486acbc235b2834bea2"
      },
      "cell_type": "code",
      "source": "conf_mat_nn_df",
      "execution_count": null,
      "outputs": []
    },
    {
      "metadata": {
        "_uuid": "b8e76b16c9b37c4abfc7352a5100540981e9b053"
      },
      "cell_type": "markdown",
      "source": "Gradient Boosting"
    },
    {
      "metadata": {
        "trusted": true,
        "_uuid": "9a7ec2fe79ba474c5acfb464928543264aed5585"
      },
      "cell_type": "code",
      "source": "from sklearn.ensemble import GradientBoostingClassifier  #GBM algorithm",
      "execution_count": null,
      "outputs": []
    },
    {
      "metadata": {
        "trusted": true,
        "_uuid": "72f86f1579bc9159a401b666480cae5b34ee0b58"
      },
      "cell_type": "code",
      "source": "gbm0 = GradientBoostingClassifier(random_state=10)",
      "execution_count": null,
      "outputs": []
    },
    {
      "metadata": {
        "trusted": true,
        "_uuid": "c8c4322c38ef7267d72ba868dd09db50a875a55a"
      },
      "cell_type": "code",
      "source": "gbm0.fit(x_train_s, y_train_s)",
      "execution_count": null,
      "outputs": []
    },
    {
      "metadata": {
        "trusted": true,
        "_uuid": "3357f316bbef5181ea061e35b4271b704848289b"
      },
      "cell_type": "code",
      "source": "pred_gbm = gbm0.predict(sm.add_constant(x_test))",
      "execution_count": null,
      "outputs": []
    },
    {
      "metadata": {
        "trusted": true,
        "_uuid": "5b25aebd953b68220e21f99283d9707b3d5b416d"
      },
      "cell_type": "code",
      "source": "accuracy_score(y_test,pred_gbm)",
      "execution_count": null,
      "outputs": []
    },
    {
      "metadata": {
        "trusted": true,
        "_uuid": "11d2602f43d0690b84e66d386cd89906f62bde16"
      },
      "cell_type": "code",
      "source": "conf_mat_gbm=confusion_matrix(y_test,pred_gbm)",
      "execution_count": null,
      "outputs": []
    },
    {
      "metadata": {
        "trusted": true,
        "_uuid": "53f3b2e247e842990b3c6fc86664a699f669b8ad"
      },
      "cell_type": "code",
      "source": "conf_mat_gbm_df=pandas.DataFrame(conf_mat_gbm,index=['Actual Negative',\"Actual Positive\"],columns=['Predicted Negative','Predicted Positive'])",
      "execution_count": null,
      "outputs": []
    },
    {
      "metadata": {
        "trusted": true,
        "_uuid": "6d3f59254cba5f0335818d0355552727768944a3"
      },
      "cell_type": "code",
      "source": "conf_mat_gbm_df",
      "execution_count": null,
      "outputs": []
    },
    {
      "metadata": {
        "trusted": true,
        "_uuid": "15c194dd33fa1a0fafbd289a8734b6f05df4ac73"
      },
      "cell_type": "markdown",
      "source": "**+++++++++++++++++**"
    },
    {
      "metadata": {
        "_uuid": "3c618fd82b2ce6fe8061d4efa4173374f2d115c4"
      },
      "cell_type": "markdown",
      "source": "In order to increase the sample data for defaulters, we are assuming that borrowers with DTI>40% and Credit score <700 as defaulters."
    },
    {
      "metadata": {
        "trusted": true,
        "_uuid": "df77fc792d65cf679274282662d57bd342e907fa"
      },
      "cell_type": "code",
      "source": "fan_x_model.shape",
      "execution_count": null,
      "outputs": []
    },
    {
      "metadata": {
        "trusted": true,
        "_uuid": "caba7aef7b0086fcc347d9ecf1d9cb673a71bb98"
      },
      "cell_type": "code",
      "source": "#fan_x_model_cr=fan_x_model",
      "execution_count": null,
      "outputs": []
    },
    {
      "metadata": {
        "trusted": true,
        "_uuid": "21cf7bf69931bc56bf5f1c41b614019a9d81cf20"
      },
      "cell_type": "code",
      "source": "(fan_x_model_cr.groupby('Default_status1').count())['LOAN IDENTIFIER']",
      "execution_count": null,
      "outputs": []
    },
    {
      "metadata": {
        "trusted": true,
        "_uuid": "ebddf750ecc537981b7b4880ef891e578983c6a0"
      },
      "cell_type": "code",
      "source": "fan_x_model_cr['Default_status1'] = numpy.where((fan_x_model_cr['Default_status1']== 100) & (fan_x_model_cr['ORIGINAL DEBT TO INCOME RATIO']>40) & (fan_x_model_cr['BORROWER CREDIT SCORE AT ORIGINATION']<700),1,fan_x_model_cr['Default_status1'])",
      "execution_count": null,
      "outputs": []
    },
    {
      "metadata": {
        "trusted": true,
        "_uuid": "a105b65942e467f7cb6a17057ba253094bf3e2b1"
      },
      "cell_type": "code",
      "source": "(fan_x_model_cr.groupby('Default_status1').count())['LOAN IDENTIFIER']",
      "execution_count": null,
      "outputs": []
    },
    {
      "metadata": {
        "trusted": true,
        "_uuid": "e1258307bfdfeccdd485e21139f2baa327e615e8"
      },
      "cell_type": "code",
      "source": "fan_x_model_cr['Default_status1']= numpy.where(fan_x_model_cr['Default_status1'] == 100,0,fan_x_model_cr['Default_status1'])",
      "execution_count": null,
      "outputs": []
    },
    {
      "metadata": {
        "trusted": true,
        "_uuid": "39b3e593c39b93ff92e20b52eafba8505e7e319a"
      },
      "cell_type": "code",
      "source": "(fan_x_model_cr.groupby('Default_status1').count())['LOAN IDENTIFIER']",
      "execution_count": null,
      "outputs": []
    },
    {
      "metadata": {
        "_uuid": "3508a37ae481bbe4c6a4489facb4a6d78f140738"
      },
      "cell_type": "markdown",
      "source": "Now we have about 3% borrowers as defaulters instead of less than a 1% earlier"
    },
    {
      "metadata": {
        "trusted": true,
        "_uuid": "1d68b192b7254cef396a006e9b66b18637f8c27c"
      },
      "cell_type": "code",
      "source": "fan_x_model_cr.head()",
      "execution_count": null,
      "outputs": []
    },
    {
      "metadata": {
        "_uuid": "68b05239e5443e99d0395d3c6044c7aad8baf452"
      },
      "cell_type": "markdown",
      "source": "Logistics Regression modelling"
    },
    {
      "metadata": {
        "trusted": true,
        "_uuid": "0c941699e63b9b585540db89c8581cbe8a43b345"
      },
      "cell_type": "code",
      "source": "crx_train,crx_test,cry_train,cry_test=train_test_split(fan_x_model_cr.drop(['Default_status1','LOAN IDENTIFIER',],axis=1),fan_x_model_cr['Default_status1'],test_size=0.2,random_state=100)",
      "execution_count": null,
      "outputs": []
    },
    {
      "metadata": {
        "trusted": true,
        "_uuid": "821450aff76996d60c70f5a909139dbae8e10daa"
      },
      "cell_type": "code",
      "source": "crx_train=sm.add_constant(crx_train)",
      "execution_count": null,
      "outputs": []
    },
    {
      "metadata": {
        "trusted": true,
        "_uuid": "b33830e5b924483b076db42870b3f73a8e6875d1"
      },
      "cell_type": "code",
      "source": "model_cr=sm.GLM(cry_train,crx_train,family=sm.families.Binomial()).fit()\n",
      "execution_count": null,
      "outputs": []
    },
    {
      "metadata": {
        "trusted": true,
        "_uuid": "105b042ad165e6f1b3d1bbf0204610adda47d453"
      },
      "cell_type": "code",
      "source": "print(model_cr.summary())",
      "execution_count": null,
      "outputs": []
    },
    {
      "metadata": {
        "trusted": true,
        "_uuid": "aca2c06883ad4a4db7cd6737cb9c57728b8052ab"
      },
      "cell_type": "code",
      "source": "devian_cr=[]\ndep_var_cr=[]\nfor i in x_var:\n    crx7_train,crx7_test,cry7_train,cry7_test=train_test_split(fan_x_model_cr[i],fan_x_model_cr['Default_status1'],test_size=0.2,random_state=100)\n    crx7_train=sm.add_constant(crx7_train)\n    #ros = RandomOverSampler(random_state=0)\n    #x7_train_s,y7_train_s=ros.fit_resample(x7_train,y7_train)\n    model2_cr=sm.GLM(cry7_train,crx7_train,family=sm.families.Binomial()).fit()\n    dep_var_cr.append(i)\n    devian_cr.append(model2_cr.deviance)",
      "execution_count": null,
      "outputs": []
    },
    {
      "metadata": {
        "trusted": true,
        "_uuid": "096927d759a486b1abdf88252f90eda50035a699"
      },
      "cell_type": "code",
      "source": "pandas.DataFrame(dep_var_cr,devian_cr)",
      "execution_count": null,
      "outputs": []
    },
    {
      "metadata": {
        "trusted": true,
        "_uuid": "d73babef9833be6fecea60a0175c017c9ef77ffb"
      },
      "cell_type": "code",
      "source": "prediction_cr=model_cr.predict(sm.add_constant(crx_test))",
      "execution_count": null,
      "outputs": []
    },
    {
      "metadata": {
        "trusted": true,
        "_uuid": "6afcdd4c75752dfb8aaffb1219858e1158b0a3f8"
      },
      "cell_type": "code",
      "source": "print(roc_auc_score(cry_test,prediction_cr))\n",
      "execution_count": null,
      "outputs": []
    },
    {
      "metadata": {
        "trusted": true,
        "_uuid": "dc02a9f15f714399c79d97dc370bbedf10d4ec2e"
      },
      "cell_type": "code",
      "source": "fpr_cr,tpr_cr,threshold_cr= roc_curve(cry_test,prediction_cr)\n",
      "execution_count": null,
      "outputs": []
    },
    {
      "metadata": {
        "trusted": true,
        "_uuid": "3d6ac4d86677225a18e97c3e8035e97e093359df"
      },
      "cell_type": "code",
      "source": "plt.plot(fpr_cr,tpr_cr, 'b')\nplt.ylabel('True Positive Rate')\nplt.xlabel(\"False Positive Rate\")",
      "execution_count": null,
      "outputs": []
    },
    {
      "metadata": {
        "trusted": true,
        "_uuid": "10df5a9b6d1dd6627b376c5b3fd86d55914422f5"
      },
      "cell_type": "code",
      "source": "optimal_th_cr=numpy.argmax(tpr_cr-fpr_cr)\n",
      "execution_count": null,
      "outputs": []
    },
    {
      "metadata": {
        "trusted": true,
        "_uuid": "44787c462f2e857496e43d20b5a9327cd344c1bd"
      },
      "cell_type": "code",
      "source": "threshold_cr[optimal_th_cr]",
      "execution_count": null,
      "outputs": []
    },
    {
      "metadata": {
        "trusted": true,
        "_uuid": "31181c6793fe83e6d6c9b51a5f5176c05a1b3566"
      },
      "cell_type": "code",
      "source": "prediction_crt=numpy.where(prediction_cr>0.065,1,0)",
      "execution_count": null,
      "outputs": []
    },
    {
      "metadata": {
        "trusted": true,
        "_uuid": "78828683b17571d072908105f5fcdcdc7cf7af82"
      },
      "cell_type": "code",
      "source": "accuracy_score(cry_test,prediction_crt)",
      "execution_count": null,
      "outputs": []
    },
    {
      "metadata": {
        "trusted": true,
        "_uuid": "2291cc1254d6294d9d393193e516cbe8ed43e30a"
      },
      "cell_type": "code",
      "source": "conf_mat_th_cr=confusion_matrix(cry_test,prediction_crt)\n",
      "execution_count": null,
      "outputs": []
    },
    {
      "metadata": {
        "trusted": true,
        "_uuid": "1e369efb555e395344db35eafb50ce08d6a7bbf3"
      },
      "cell_type": "code",
      "source": "conf_mat_th_cr_df=pandas.DataFrame(conf_mat_th_cr,index=['Actual Negative',\"Actual Positive\"],columns=['Predicted Negative','Predicted Positive'])",
      "execution_count": null,
      "outputs": []
    },
    {
      "metadata": {
        "trusted": true,
        "_uuid": "12fc1dad96a68386e1ebd63a13f09638d12089e1"
      },
      "cell_type": "code",
      "source": "conf_mat_th_cr_df",
      "execution_count": null,
      "outputs": []
    },
    {
      "metadata": {
        "_uuid": "10036206012ed53678fc53382d5aa0ba9096bc59"
      },
      "cell_type": "markdown",
      "source": "RandomForest classification"
    },
    {
      "metadata": {
        "trusted": true,
        "_uuid": "9d340d4805831ba3c085413cc9587d49929347e7"
      },
      "cell_type": "code",
      "source": "rf_model_cr = RandomForestClassifier(n_estimators=500, n_jobs=-1)",
      "execution_count": null,
      "outputs": []
    },
    {
      "metadata": {
        "trusted": true,
        "_uuid": "068914fbfc7c0fa100dce9fb03234497ed931dbd"
      },
      "cell_type": "code",
      "source": "rf_model_cr.fit(crx_train, cry_train)",
      "execution_count": null,
      "outputs": []
    },
    {
      "metadata": {
        "trusted": true,
        "_uuid": "d1006c3611148b22db3bbaf395cbec8106828c7e"
      },
      "cell_type": "code",
      "source": "prediction_cr_rf=rf_model_cr.predict(sm.add_constant(crx_test))",
      "execution_count": null,
      "outputs": []
    },
    {
      "metadata": {
        "trusted": true,
        "_uuid": "f3e4844ec73b7ec6f85f9c51be09534d9c4b1b0c"
      },
      "cell_type": "code",
      "source": "accuracy_score(cry_test,prediction_cr_rf)",
      "execution_count": null,
      "outputs": []
    },
    {
      "metadata": {
        "trusted": true,
        "_uuid": "e14ae43632922780ad2f403a7cb12e7859a09bc3"
      },
      "cell_type": "code",
      "source": "conf_mat_th_cr_rf=confusion_matrix(cry_test,prediction_cr_rf)",
      "execution_count": null,
      "outputs": []
    },
    {
      "metadata": {
        "trusted": true,
        "_uuid": "0aa2d718ba42e11e73dbce562e9068eca5bac101"
      },
      "cell_type": "code",
      "source": "conf_mat_th_cr_rf_df=pandas.DataFrame(conf_mat_th_cr_rf,index=['Actual Negative',\"Actual Positive\"],columns=['Predicted Negative','Predicted Positive'])",
      "execution_count": null,
      "outputs": []
    },
    {
      "metadata": {
        "trusted": true,
        "_uuid": "9d51187ca36f7b210d69bd7bee293e3155e9b72d"
      },
      "cell_type": "code",
      "source": "conf_mat_th_cr_rf_df",
      "execution_count": null,
      "outputs": []
    },
    {
      "metadata": {
        "_uuid": "9ea2d7c28f4bd195a0151e59cecfb7de09b8cccd"
      },
      "cell_type": "markdown",
      "source": "Undersampling the data"
    },
    {
      "metadata": {
        "trusted": true,
        "scrolled": true,
        "_uuid": "57990845313477ee3123654a74f2dbf7918fdabf"
      },
      "cell_type": "code",
      "source": "rus_cr = RandomUnderSampler(random_state=0)\n",
      "execution_count": null,
      "outputs": []
    },
    {
      "metadata": {
        "trusted": true,
        "_uuid": "a8750eddf37b2b1ccf8335cab50ec7a3b4f3c053"
      },
      "cell_type": "code",
      "source": "crx_train_us,cry_train_us=rus_cr.fit_resample(crx_train,cry_train)",
      "execution_count": null,
      "outputs": []
    },
    {
      "metadata": {
        "trusted": true,
        "_uuid": "1c4676db1292d569616645d27b1df5ffe6324ad9"
      },
      "cell_type": "code",
      "source": "rf_model_cr_us = RandomForestClassifier(n_estimators=500, n_jobs=-1)",
      "execution_count": null,
      "outputs": []
    },
    {
      "metadata": {
        "trusted": true,
        "_uuid": "2e852720f2cd9bc0adef5f2435966b4522e4914a"
      },
      "cell_type": "code",
      "source": "rf_model_cr_us.fit(crx_train_us, cry_train_us)",
      "execution_count": null,
      "outputs": []
    },
    {
      "metadata": {
        "trusted": true,
        "_uuid": "317cbb59b196c484e2ac517d1d22cdbaf51e96f4"
      },
      "cell_type": "code",
      "source": "prediction_cr_rf_us=rf_model_cr_us.predict(sm.add_constant(crx_test))",
      "execution_count": null,
      "outputs": []
    },
    {
      "metadata": {
        "trusted": true,
        "_uuid": "68a63d519e22e8f2c8a034d124f8c8663ffcfb4c"
      },
      "cell_type": "code",
      "source": "accuracy_score(cry_test,prediction_cr_rf_us)",
      "execution_count": null,
      "outputs": []
    },
    {
      "metadata": {
        "trusted": true,
        "_uuid": "676f8d496905dcf99197201999250fbccc4bd048"
      },
      "cell_type": "code",
      "source": "conf_mat_th_cr_rf_us=confusion_matrix(cry_test,prediction_cr_rf_us)",
      "execution_count": null,
      "outputs": []
    },
    {
      "metadata": {
        "trusted": true,
        "_uuid": "2471424ecf6dd9c1905a992fa34bc30d61dfd626"
      },
      "cell_type": "code",
      "source": "conf_mat_th_cr_rf_us_df=pandas.DataFrame(conf_mat_th_cr_rf_us,index=['Actual Negative',\"Actual Positive\"],columns=['Predicted Negative','Predicted Positive'])",
      "execution_count": null,
      "outputs": []
    },
    {
      "metadata": {
        "trusted": true,
        "_uuid": "0fa1d66c08189d38d288655d368dea8adee79ed8"
      },
      "cell_type": "code",
      "source": "conf_mat_th_cr_rf_us_df",
      "execution_count": null,
      "outputs": []
    },
    {
      "metadata": {
        "_uuid": "3567e418ca88b779414ad22d4f421589d0f92ea8"
      },
      "cell_type": "markdown",
      "source": "Use Logistics regression with undersampled data."
    },
    {
      "metadata": {
        "trusted": true,
        "_uuid": "9c05e6df0177eac6fba110f1363d980b534ae9a2"
      },
      "cell_type": "code",
      "source": "model_cr_us=sm.GLM(cry_train_us,crx_train_us,family=sm.families.Binomial()).fit()",
      "execution_count": null,
      "outputs": []
    },
    {
      "metadata": {
        "trusted": true,
        "collapsed": true,
        "_uuid": "7171826619632c63cc6aeff143881f6e5473c9bf"
      },
      "cell_type": "code",
      "source": "print(model_cr_us.summary())",
      "execution_count": null,
      "outputs": []
    },
    {
      "metadata": {
        "trusted": true,
        "_uuid": "7c6a952889f182406010bc64dce93a1af4ea06e7"
      },
      "cell_type": "code",
      "source": "prediction_cr_us=model_cr_us.predict(sm.add_constant(crx_test))",
      "execution_count": null,
      "outputs": []
    },
    {
      "metadata": {
        "trusted": true,
        "_uuid": "7ab5840896d3415a385482846c809910b25f5e1a"
      },
      "cell_type": "code",
      "source": "print(roc_auc_score(cry_test,prediction_cr_us))",
      "execution_count": null,
      "outputs": []
    },
    {
      "metadata": {
        "trusted": true,
        "_uuid": "2e5bb5c89a0eb8024dc86b097021cd72c8421667"
      },
      "cell_type": "code",
      "source": "fpr_cr_us,tpr_cr_us,threshold_cr_us= roc_curve(cry_test,prediction_cr_us)",
      "execution_count": null,
      "outputs": []
    },
    {
      "metadata": {
        "trusted": true,
        "_uuid": "1f8be45d2a868e7306e8f427a8ae889afd76d1e6"
      },
      "cell_type": "code",
      "source": "plt.plot(fpr_cr_us,tpr_cr_us, 'b')\nplt.ylabel('True Positive Rate')\nplt.xlabel(\"False Positive Rate\")",
      "execution_count": null,
      "outputs": []
    },
    {
      "metadata": {
        "trusted": true,
        "_uuid": "e3bc81622768b47ccadb630881c3a56cabb413ee"
      },
      "cell_type": "code",
      "source": "optimal_th_cr_us=numpy.argmax(tpr_cr_us-fpr_cr_us)",
      "execution_count": null,
      "outputs": []
    },
    {
      "metadata": {
        "trusted": true,
        "_uuid": "1e232748b3291168623e4115cdf2b09a5fbd33cc"
      },
      "cell_type": "code",
      "source": "threshold_cr_us[optimal_th_cr_us]",
      "execution_count": null,
      "outputs": []
    },
    {
      "metadata": {
        "trusted": true,
        "_uuid": "ee1122e561363f18fa80e6427dd40b2cc816991b"
      },
      "cell_type": "code",
      "source": "prediction_crt_us=numpy.where(prediction_cr_us>0.63,1,0)",
      "execution_count": null,
      "outputs": []
    },
    {
      "metadata": {
        "trusted": true,
        "_uuid": "e562bcfb63bccd900305dbe7d780bdc61168c062"
      },
      "cell_type": "code",
      "source": "accuracy_score(cry_test,prediction_crt_us)",
      "execution_count": null,
      "outputs": []
    },
    {
      "metadata": {
        "trusted": true,
        "_uuid": "d70a8dd689eed0f6c199ddaab0e16655d8c64cc0"
      },
      "cell_type": "code",
      "source": "conf_mat_crt_us=confusion_matrix(cry_test,prediction_crt_us)",
      "execution_count": null,
      "outputs": []
    },
    {
      "metadata": {
        "trusted": true,
        "_uuid": "80fcaa17347e3717ed505eb1b88c259cf20dcd11"
      },
      "cell_type": "code",
      "source": "conf_mat_crt_us_df=pandas.DataFrame(conf_mat_crt_us,index=['Actual Negative',\"Actual Positive\"],columns=['Predicted Negative','Predicted Positive'])",
      "execution_count": null,
      "outputs": []
    },
    {
      "metadata": {
        "_uuid": "6ba1f1135364b390a62172d046f89483c28d9188"
      },
      "cell_type": "markdown",
      "source": "Confusion Matrix for logistic regression model with undersampled data"
    },
    {
      "metadata": {
        "trusted": true,
        "_uuid": "160350683d3410939bde8f097cf065d67b3e6e7e"
      },
      "cell_type": "code",
      "source": "conf_mat_crt_us_df",
      "execution_count": null,
      "outputs": []
    },
    {
      "metadata": {
        "_uuid": "da57fee49d7946392a2e6296cec26f45d15f71a2"
      },
      "cell_type": "markdown",
      "source": "Confusion Matrix for random forest model with undersampled data"
    },
    {
      "metadata": {
        "trusted": true,
        "_uuid": "862f76817e899b44f18972b6620fc7bebce7cf71"
      },
      "cell_type": "code",
      "source": "conf_mat_th_cr_rf_us_df",
      "execution_count": null,
      "outputs": []
    },
    {
      "metadata": {
        "_uuid": "bd8880f2f1091436cd67a77a6422b923a9b5ed03"
      },
      "cell_type": "markdown",
      "source": "Confusion Matrix for Random Forest model without over/undersampling"
    },
    {
      "metadata": {
        "trusted": true,
        "_uuid": "adfa565a315a1015044f505ea77bd39a4b9ac88d"
      },
      "cell_type": "code",
      "source": "conf_mat_th_cr_rf_df",
      "execution_count": null,
      "outputs": []
    },
    {
      "metadata": {
        "_uuid": "46cb4b7f448ac9694ba2ee63ae2f06bc11a0e806"
      },
      "cell_type": "markdown",
      "source": "Confusion Matrix for Logistics regression model without over/undersampling"
    },
    {
      "metadata": {
        "trusted": true,
        "_uuid": "16214d00628c1636da1a19a7d0150efb7bbcd391"
      },
      "cell_type": "code",
      "source": "conf_mat_th_cr_df",
      "execution_count": null,
      "outputs": []
    },
    {
      "metadata": {
        "_uuid": "c174bd46548559653673efe948ea93cf2164e212"
      },
      "cell_type": "markdown",
      "source": "Gradient Boosting technique without undersampling"
    },
    {
      "metadata": {
        "trusted": true,
        "_uuid": "fef3ba64b81678886065b2e6d5ff95fde9708869"
      },
      "cell_type": "code",
      "source": "gbm1 = GradientBoostingClassifier(random_state=10)",
      "execution_count": null,
      "outputs": []
    },
    {
      "metadata": {
        "trusted": true,
        "_uuid": "57da6fee7326eaad92453ee79444fe4ee8abdc6c"
      },
      "cell_type": "code",
      "source": "gbm1.fit(crx_train, cry_train)",
      "execution_count": null,
      "outputs": []
    },
    {
      "metadata": {
        "trusted": true,
        "_uuid": "6b07d1ed995337ff9da3de2a6cff43d555cd4fc6"
      },
      "cell_type": "code",
      "source": "pred_gbm1 = gbm1.predict(sm.add_constant(crx_test))",
      "execution_count": null,
      "outputs": []
    },
    {
      "metadata": {
        "trusted": true,
        "_uuid": "d521d30392d1eea79a289bceca0dccd5353d3224"
      },
      "cell_type": "code",
      "source": "accuracy_score(cry_test,pred_gbm1)",
      "execution_count": null,
      "outputs": []
    },
    {
      "metadata": {
        "trusted": true,
        "_uuid": "27fe923c1f55e05a7bda1f829a23be971fe880e3"
      },
      "cell_type": "code",
      "source": "conf_mat_gbm1=confusion_matrix(cry_test,pred_gbm1)",
      "execution_count": null,
      "outputs": []
    },
    {
      "metadata": {
        "trusted": true,
        "_uuid": "923be0ff2996f5518e986182e0156ffd87924600"
      },
      "cell_type": "code",
      "source": "conf_mat_gbm1_df=pandas.DataFrame(conf_mat_gbm1,index=['Actual Negative',\"Actual Positive\"],columns=['Predicted Negative','Predicted Positive'])",
      "execution_count": null,
      "outputs": []
    },
    {
      "metadata": {
        "trusted": true,
        "_uuid": "dbb40884beb0847c4ec58240bb71873770485150"
      },
      "cell_type": "code",
      "source": "conf_mat_gbm1_df",
      "execution_count": null,
      "outputs": []
    },
    {
      "metadata": {
        "_uuid": "e0de8eae5233d66900a0c015855a97585d8e3dfb"
      },
      "cell_type": "markdown",
      "source": "Gradient Boosting technique with undersampling"
    },
    {
      "metadata": {
        "trusted": true,
        "_uuid": "46eeb221084ad1a8f0e71a147dc09103349425d8"
      },
      "cell_type": "code",
      "source": "gbm1_us = GradientBoostingClassifier(random_state=10)",
      "execution_count": null,
      "outputs": []
    },
    {
      "metadata": {
        "trusted": true,
        "_uuid": "53fbf963402c02e60de9664670c76df65dd0b483"
      },
      "cell_type": "code",
      "source": "gbm1_us.fit(crx_train_us, cry_train_us)",
      "execution_count": null,
      "outputs": []
    },
    {
      "metadata": {
        "trusted": true,
        "_uuid": "893439b7a9fa587e8626e9dc35150d7d57aeaba5"
      },
      "cell_type": "code",
      "source": "pred_gbm1_us = gbm1_us.predict(sm.add_constant(crx_test))",
      "execution_count": null,
      "outputs": []
    },
    {
      "metadata": {
        "trusted": true,
        "_uuid": "18a339467a8aa4457e2cc192a4c81ed19e107a5a"
      },
      "cell_type": "code",
      "source": "accuracy_score(cry_test,pred_gbm1_us)",
      "execution_count": null,
      "outputs": []
    },
    {
      "metadata": {
        "trusted": true,
        "_uuid": "021d35278c5599b87ccbf276f429f06c0c233f2c"
      },
      "cell_type": "code",
      "source": "conf_mat_gbm1_us=confusion_matrix(cry_test,pred_gbm1_us)",
      "execution_count": null,
      "outputs": []
    },
    {
      "metadata": {
        "trusted": true,
        "_uuid": "d4d69a8d751d8a1290695c3dcd442f5b30247376"
      },
      "cell_type": "code",
      "source": "conf_mat_gbm1_us_df=pandas.DataFrame(conf_mat_gbm1_us,index=['Actual Negative',\"Actual Positive\"],columns=['Predicted Negative','Predicted Positive'])",
      "execution_count": null,
      "outputs": []
    },
    {
      "metadata": {
        "trusted": true,
        "_uuid": "933659239d2b7bda20b6fc1d4c32036bfdf9c868"
      },
      "cell_type": "code",
      "source": "conf_mat_gbm1_us_df",
      "execution_count": null,
      "outputs": []
    },
    {
      "metadata": {
        "_uuid": "8368239259e531b11b6087864feff0167dc15aff"
      },
      "cell_type": "markdown",
      "source": "Classification using Neural net"
    },
    {
      "metadata": {
        "trusted": true,
        "_uuid": "fe774cbfd72efcb39bfe085e916642eed273265e"
      },
      "cell_type": "code",
      "source": "clf1 = MLPClassifier(solver='lbfgs',activation='logistic', alpha=1e-5,hidden_layer_sizes=(100,75), random_state=1)",
      "execution_count": null,
      "outputs": []
    },
    {
      "metadata": {
        "trusted": true,
        "_uuid": "06d02340efac3eecb3dc9439312e053ab9e4ead7"
      },
      "cell_type": "code",
      "source": "clf1.fit(crx_train, cry_train)",
      "execution_count": null,
      "outputs": []
    },
    {
      "metadata": {
        "trusted": true,
        "_uuid": "6a82082c96302fb2a26021a9828299c20cffb6f1"
      },
      "cell_type": "code",
      "source": "pred_nn_1 = clf1.predict(sm.add_constant(crx_test))",
      "execution_count": null,
      "outputs": []
    },
    {
      "metadata": {
        "trusted": true,
        "_uuid": "f1e3384a31f0b5d01665b154e4db9a939805e435"
      },
      "cell_type": "code",
      "source": "accuracy_score(cry_test,pred_nn_1)",
      "execution_count": null,
      "outputs": []
    },
    {
      "metadata": {
        "trusted": true,
        "_uuid": "2450a11cccdf11d08deab1d90a8ef95ff1aaf47c"
      },
      "cell_type": "code",
      "source": "conf_mat_nn1=confusion_matrix(cry_test,pred_nn_1)",
      "execution_count": null,
      "outputs": []
    },
    {
      "metadata": {
        "trusted": true,
        "_uuid": "0e02c8c44891fedd7fd6b524bf0a7ab95d12d31c"
      },
      "cell_type": "code",
      "source": "conf_mat_nn1_df=pandas.DataFrame(conf_mat_nn1,index=['Actual Negative',\"Actual Positive\"],columns=['Predicted Negative','Predicted Positive'])",
      "execution_count": null,
      "outputs": []
    },
    {
      "metadata": {
        "trusted": true,
        "_uuid": "0a7230d01a2de36b85b99eb5a558001ff6b81d61"
      },
      "cell_type": "code",
      "source": "conf_mat_nn1_df",
      "execution_count": null,
      "outputs": []
    },
    {
      "metadata": {
        "_uuid": "83c9c502367e02d10dc13a2cd1d0d0f60c730b14"
      },
      "cell_type": "markdown",
      "source": "Classification using Neural net with undersampling"
    },
    {
      "metadata": {
        "trusted": true,
        "_uuid": "539222f292b38e1e3de00c4a4c19f53b085a2c60"
      },
      "cell_type": "code",
      "source": "clf1_us = MLPClassifier(solver='lbfgs',activation='logistic', alpha=1e-5,hidden_layer_sizes=(100,75), random_state=1)",
      "execution_count": null,
      "outputs": []
    },
    {
      "metadata": {
        "trusted": true,
        "_uuid": "cfc9290a335c1a2e087a91dc93a6051b24f0d6eb"
      },
      "cell_type": "code",
      "source": "clf1_us.fit(crx_train_us, cry_train_us)",
      "execution_count": null,
      "outputs": []
    },
    {
      "metadata": {
        "trusted": true,
        "_uuid": "d8abf931f86eb7137f3dd9aa760e91aee9db92be"
      },
      "cell_type": "code",
      "source": "pred_nn_1_us = clf1_us.predict(sm.add_constant(crx_test))",
      "execution_count": null,
      "outputs": []
    },
    {
      "metadata": {
        "trusted": true,
        "_uuid": "e55d4378101f34a2c9ef43e4c872d8c79cca6edc"
      },
      "cell_type": "code",
      "source": "accuracy_score(cry_test,pred_nn_1_us)",
      "execution_count": null,
      "outputs": []
    },
    {
      "metadata": {
        "trusted": true,
        "_uuid": "186d38c502d2b76f5e01b41a43d4f8e6d1f4ac31"
      },
      "cell_type": "code",
      "source": "conf_mat_nn1_us=confusion_matrix(cry_test,pred_nn_1_us)",
      "execution_count": null,
      "outputs": []
    },
    {
      "metadata": {
        "trusted": true,
        "_uuid": "cdec681a4ea9d971a4a82f759dc014da2ada2cde"
      },
      "cell_type": "code",
      "source": "conf_mat_nn1_us_df=pandas.DataFrame(conf_mat_nn1_us,index=['Actual Negative',\"Actual Positive\"],columns=['Predicted Negative','Predicted Positive'])",
      "execution_count": null,
      "outputs": []
    },
    {
      "metadata": {
        "trusted": true,
        "_uuid": "4880b352024ed5d4aa347133befd5d04679ddcbe"
      },
      "cell_type": "code",
      "source": "conf_mat_nn1_us_df",
      "execution_count": null,
      "outputs": []
    }
  ],
  "metadata": {
    "kernelspec": {
      "display_name": "Python 3",
      "language": "python",
      "name": "python3"
    },
    "language_info": {
      "name": "python",
      "version": "3.6.6",
      "mimetype": "text/x-python",
      "codemirror_mode": {
        "name": "ipython",
        "version": 3
      },
      "pygments_lexer": "ipython3",
      "nbconvert_exporter": "python",
      "file_extension": ".py"
    }
  },
  "nbformat": 4,
  "nbformat_minor": 1
}