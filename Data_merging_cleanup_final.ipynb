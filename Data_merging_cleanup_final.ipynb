{
  "cells": [
    {
      "metadata": {
        "_uuid": "8f2839f25d086af736a60e9eeb907d3b93b6e0e5",
        "_cell_guid": "b1076dfc-b9ad-4769-8c92-a6c4dae69d19",
        "trusted": true
      },
      "cell_type": "code",
      "source": "# This Python 3 environment comes with many helpful analytics libraries installed\n# It is defined by the kaggle/python docker image: https://github.com/kaggle/docker-python\n# For example, here's several helpful packages to load in \n\nimport numpy as np # linear algebra\nimport pandas as pd # data processing, CSV file I/O (e.g. pd.read_csv)\n\n# Input data files are available in the \"../input/\" directory.\n# For example, running this (by clicking run or pressing Shift+Enter) will list the files in the input directory\n\nimport os\nprint(os.listdir(\"../input\"))\n\n# Any results you write to the current directory are saved as output.",
      "execution_count": null,
      "outputs": []
    },
    {
      "metadata": {
        "_cell_guid": "79c7e3d0-c299-4dcb-8224-4455121ee9b0",
        "_uuid": "d629ff2d2480ee46fbb7e2d37f6b5fab8052498a",
        "trusted": true
      },
      "cell_type": "code",
      "source": "import os\nimport pandas\nimport numpy\n",
      "execution_count": null,
      "outputs": []
    },
    {
      "metadata": {
        "trusted": true,
        "_uuid": "6c8c268b83a10e11b597c5833cf5e24d11a9989c"
      },
      "cell_type": "code",
      "source": "perf_data=pandas.read_table(\"../input/fannie-perf/Performance_2015Q1.txt\",sep='|',header=None,low_memory=False)",
      "execution_count": null,
      "outputs": []
    },
    {
      "metadata": {
        "trusted": true,
        "_uuid": "bb14633c36bc6c9620f476ca00adaaa3074c0595"
      },
      "cell_type": "code",
      "source": "perf_data.columns=[\"LOAN IDENTIFIER\",\"MONTHLY REPORTING PERIOD\",\"SERVICER NAME\",\"CURRENT INTEREST RATE\",\"CURRENT ACTUAL UPB\",\"LOAN AGE\",\"REMAINING MONTHS TO LEGAL MATURITY\",\"ADJUSTED MONTHS TO MATURITY\",\"MATURITY DATE\",\"METROPOLITAN STATISTICAL AREA\",\"CURRENT DQ STATUS\",\"MODIFICATION FLAG\",\"ZERO BALANCE CODE\",\"ZERO BALANCE EFFECTIVE DATE\",\"LAST PAID INSTALLMENT DATE\",\"FORECLOSURE DATE\",\"DISPOSITION DATE\",\"FORECLOSURE COSTS\",\"ROPERTY PRESERVATION AND REPAIR COSTS\",\"ASSET RECOVERY COSTS\",\"MISCELLANEOUS HOLDING EXPENSES AND CREDITS\",\"ASSOCIATED TAXES FOR HOLDING PROPERTY\",\"NET SALE PROCEEDS\",\"CREDIT ENHANCEMENT PROCEEDS\",\"REPURCHASE MAKE WHOLE PROCEEDS\",\"OTHER FORECLOSURE PROCEEDS\",\"NON INTEREST BEARING UPB\",\"PRINCIPAL FORGIVENESS AMOUNT\",\"REPURCHASE MAKE WHOLE PROCEEDS FLAG\",\"FORECLOSURE PRINCIPAL WRITE-OFF AMOUNT\",\"SERVICING ACTIVITY INDICATOR\"]",
      "execution_count": null,
      "outputs": []
    },
    {
      "metadata": {
        "trusted": true,
        "_uuid": "c5e7d1c869dd569e92df43585e37cefe39d1ef63"
      },
      "cell_type": "code",
      "source": "acq_data=pandas.read_table(\"../input/ack-file/Acquisition_2015Q1.txt\",sep='|',header=None)",
      "execution_count": null,
      "outputs": []
    },
    {
      "metadata": {
        "trusted": true,
        "_uuid": "68b78d730eabd9a10be340a8906f414251a3abed"
      },
      "cell_type": "code",
      "source": "acq_data.columns=['LOAN IDENTIFIER','ORIGINATION CHANNEL','SELLER NAME','ORIGINAL INTEREST RATE','ORIGINAL UPB','ORIGINAL LOAN TERM','ORIGINATION DATE','FIRST PAYMENT DATE',\n'ORIGINAL LOAN-TO-VALUE (LTV)','ORIGINAL COMBINED LOAN-TO-VALUE (CLTV)','NUMBER OF BORROWERS','ORIGINAL DEBT TO INCOME RATIO','BORROWER CREDIT SCORE AT ORIGINATION',\n'FIRST TIME HOME BUYER INDICATOR','LOAN PURPOSE','PROPERTY TYPE','NUMBER OF UNITS','OCCUPANCY TYPE','PROPERTY STATE','ZIP CODE SHORT',\n'PRIMARY MORTGAGE INSURANCE PERCENT','PRODUCT TYPE','CO-BORROWER CREDIT SCORE AT ORIGINATION','MORTGAGE INSURANCE TYPE','RELOCATION MORTGAGE INDICATOR'\n]\n",
      "execution_count": null,
      "outputs": []
    },
    {
      "metadata": {
        "trusted": true,
        "_uuid": "6255fa98dce064559a7fe8ab360997c09e6ed8d4"
      },
      "cell_type": "code",
      "source": "perf_data_x=perf_data[perf_data['CURRENT DQ STATUS'] == 'X']",
      "execution_count": null,
      "outputs": []
    },
    {
      "metadata": {
        "trusted": true,
        "_uuid": "6c7076a426d67cc2691b24854dc8d76869379a3a"
      },
      "cell_type": "code",
      "source": "perf_data_x['LOAN IDENTIFIER'].unique().shape",
      "execution_count": null,
      "outputs": []
    },
    {
      "metadata": {
        "trusted": true,
        "_uuid": "7fc5b0dca783fd8e75cd87fa45848ee8641e2d2a"
      },
      "cell_type": "code",
      "source": "x_id=perf_data_x['LOAN IDENTIFIER'].unique().tolist()",
      "execution_count": null,
      "outputs": []
    },
    {
      "metadata": {
        "trusted": true,
        "_uuid": "3d9ac1c63ac353e87407f9a0aa83fbd05146e615"
      },
      "cell_type": "code",
      "source": "x_id.sort()",
      "execution_count": null,
      "outputs": []
    },
    {
      "metadata": {
        "trusted": true,
        "_uuid": "230b05c8590a47afbd1a0513c3c7f86767b5b862"
      },
      "cell_type": "code",
      "source": "acq_data=acq_data.sort_values('LOAN IDENTIFIER')",
      "execution_count": null,
      "outputs": []
    },
    {
      "metadata": {
        "trusted": true,
        "_uuid": "9d33247845e3484d4a801bbeaeeae545266d32ba"
      },
      "cell_type": "code",
      "source": "acq_ind=acq_data['LOAN IDENTIFIER'].index",
      "execution_count": null,
      "outputs": []
    },
    {
      "metadata": {
        "trusted": true,
        "_uuid": "4dbcf67c68c0a237c35c45cfe8d087dc72b557d9"
      },
      "cell_type": "code",
      "source": "acq_ind=list(acq_ind)",
      "execution_count": null,
      "outputs": []
    },
    {
      "metadata": {
        "trusted": true,
        "_uuid": "9d0ba956f6808202f4c1776f5887ff89be3c0e37"
      },
      "cell_type": "code",
      "source": "acq_data['Default_status']=\"\"\nk=0\nfor i in x_id:\n    for j in range(k,len(acq_ind)):\n        \n        val=acq_data.loc[j,['LOAN IDENTIFIER']].values;\n        if val == i:\n            acq_data.loc[j,['Default_status']] = 100\n            k=j\n            break\n        else:\n            continue\n                     \n            #ind=(acq_data[acq_data['LOAN IDENTIFIER'] == j]).index\n            #if acq_data[acq_data.loc[j,['LOAN IDENTIFIER']].values == i:\n                #acq_data.loc[j,['Default_status']] = 100\n                #k=j\n                #break        \n            #else:\n                #if j < i:\n             #   continue",
      "execution_count": null,
      "outputs": []
    },
    {
      "metadata": {
        "trusted": true,
        "_uuid": "5321e18790935299ec5a0a1a9be03bee2b3c7d6f"
      },
      "cell_type": "code",
      "source": "acq_data[acq_data['Default_status']==100].shape",
      "execution_count": null,
      "outputs": []
    },
    {
      "metadata": {
        "trusted": true,
        "_uuid": "c0433c947a986b9cd285718e7325f7f15bfda070"
      },
      "cell_type": "code",
      "source": "perf_data_clean=perf_data.drop((perf_data[perf_data['CURRENT DQ STATUS'].isnull()]).index)",
      "execution_count": null,
      "outputs": []
    },
    {
      "metadata": {
        "trusted": true,
        "_uuid": "eb123f04d8132d54e0574e845b671bb93e93b7c3"
      },
      "cell_type": "code",
      "source": "perf_data_clean=perf_data_clean.drop((perf_data_clean[perf_data_clean['CURRENT DQ STATUS'] == 'X']).index)",
      "execution_count": null,
      "outputs": []
    },
    {
      "metadata": {
        "trusted": true,
        "_uuid": "f570d1945c449c6aaf3b473f7c6f10c0e756f7c5"
      },
      "cell_type": "code",
      "source": "perf_data_clean['CURRENT DQ STATUS']=perf_data_clean['CURRENT DQ STATUS'].astype(int)",
      "execution_count": null,
      "outputs": []
    },
    {
      "metadata": {
        "trusted": true,
        "_uuid": "aa0b47a5814a78fb45651bb5ab9298767c761818"
      },
      "cell_type": "code",
      "source": "perf_data_clean_def=perf_data_clean[perf_data_clean['CURRENT DQ STATUS'] >3]",
      "execution_count": null,
      "outputs": []
    },
    {
      "metadata": {
        "trusted": true,
        "_uuid": "1f408e05e1bf96b2b7815cb76d3ee3687636cec6"
      },
      "cell_type": "code",
      "source": "perf_data_clean_def.shape",
      "execution_count": null,
      "outputs": []
    },
    {
      "metadata": {
        "trusted": true,
        "_uuid": "61c5b68e24799cfd92e75ba9db7ebc1ed8ecc625"
      },
      "cell_type": "code",
      "source": "list_def=perf_data_clean_def['LOAN IDENTIFIER'].unique()",
      "execution_count": null,
      "outputs": []
    },
    {
      "metadata": {
        "trusted": true,
        "_uuid": "c148b41b9a4a740d61bfaa1de019704c91097dbe"
      },
      "cell_type": "code",
      "source": "list_def.sort()",
      "execution_count": null,
      "outputs": []
    },
    {
      "metadata": {
        "trusted": true,
        "_uuid": "9edcde0a0cf53bfde006984f65e738d003b33791"
      },
      "cell_type": "code",
      "source": "r=0\nfor m in list_def:\n    for n in range(r,len(acq_ind)):\n        \n        val1=acq_data.loc[n,['LOAN IDENTIFIER']].values;\n        if val1 == m:\n            acq_data.loc[n,['Default_status']] = 1\n            r=n\n            break\n        else:\n            continue",
      "execution_count": null,
      "outputs": []
    },
    {
      "metadata": {
        "trusted": true,
        "_uuid": "3062cb9633728a8ed64647e336750715b050d982"
      },
      "cell_type": "code",
      "source": "(acq_data.groupby('Default_status').count().sort_values('LOAN IDENTIFIER'))['LOAN IDENTIFIER']",
      "execution_count": null,
      "outputs": []
    },
    {
      "metadata": {
        "trusted": true,
        "_uuid": "624705f621e6dfb266f6603542ede142facb0263"
      },
      "cell_type": "code",
      "source": "acq_data['Default_status1']= numpy.where(acq_data['Default_status'] == \"\",0,acq_data['Default_status'])",
      "execution_count": null,
      "outputs": []
    },
    {
      "metadata": {
        "trusted": true,
        "_uuid": "5bec2a9fafb9a25c25786b7898849d493b627294"
      },
      "cell_type": "code",
      "source": "(acq_data.groupby('Default_status1').count().sort_values('LOAN IDENTIFIER'))['LOAN IDENTIFIER']",
      "execution_count": null,
      "outputs": []
    },
    {
      "metadata": {
        "trusted": true,
        "_uuid": "a00203c5072abfd71844540a065d154e111ae50c"
      },
      "cell_type": "code",
      "source": "acq_data.to_csv('acq_data_3status_final')",
      "execution_count": null,
      "outputs": []
    },
    {
      "metadata": {
        "trusted": true,
        "_uuid": "ee88b681e6df9cdb0a29e46a701309bde87bb80a"
      },
      "cell_type": "code",
      "source": "#import matplotlib.pyplot as plt\n#import seaborn as sn",
      "execution_count": null,
      "outputs": []
    },
    {
      "metadata": {
        "trusted": true,
        "_uuid": "6c08edacfad33c696b7d26cb46d23ea56cfd5666"
      },
      "cell_type": "code",
      "source": "#sn.catplot(x=\"ORIGINAL DEBT TO INCOME RATIO\",y=\"Default_status1\", kind=\"box\", data=acq_data,orient='h')",
      "execution_count": null,
      "outputs": []
    },
    {
      "metadata": {
        "trusted": true,
        "_uuid": "6ac3f7a75b8cda3b49f94a6e3aa4ae5c51c1cc94"
      },
      "cell_type": "code",
      "source": "#sn.catplot(x=\"BORROWER CREDIT SCORE AT ORIGINATION\", y=\"Default_status1\", kind=\"box\", data=acq_data,orient='h')",
      "execution_count": null,
      "outputs": []
    },
    {
      "metadata": {
        "trusted": true,
        "_uuid": "8e7db017aaa593059be3ffde5622c40ef10f1dc2"
      },
      "cell_type": "code",
      "source": "",
      "execution_count": null,
      "outputs": []
    }
  ],
  "metadata": {
    "kernelspec": {
      "display_name": "Python 3",
      "language": "python",
      "name": "python3"
    },
    "language_info": {
      "name": "python",
      "version": "3.6.6",
      "mimetype": "text/x-python",
      "codemirror_mode": {
        "name": "ipython",
        "version": 3
      },
      "pygments_lexer": "ipython3",
      "nbconvert_exporter": "python",
      "file_extension": ".py"
    }
  },
  "nbformat": 4,
  "nbformat_minor": 1
}